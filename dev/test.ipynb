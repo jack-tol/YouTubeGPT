{
 "cells": [
  {
   "cell_type": "code",
   "execution_count": null,
   "metadata": {},
   "outputs": [],
   "source": [
    "async def send_actions():\n",
    "    \"\"\"Send action options to the user.\"\"\"\n",
    "    actions = [\n",
    "        cl.Action(name=\"ask_about_new_video\", value=\"new_vide\", description=\"Allows you to ask about a new video\", label=\"Ask about a new video\")\n",
    "    ]\n",
    "    await cl.Message(content=\"### Placeholder\", actions=actions).send()\n",
    "\n",
    "\n",
    "@cl.action_callback(\"ask_about_new_video\")\n",
    "async def handle_new_paper(action):\n",
    "    \"\"\"Handle new paper action.\"\"\"\n",
    "    logger.info(\"New paper button clicked.\")\n",
    "    await ask_initial_query()"
   ]
  }
 ],
 "metadata": {
  "language_info": {
   "name": "python"
  }
 },
 "nbformat": 4,
 "nbformat_minor": 2
}

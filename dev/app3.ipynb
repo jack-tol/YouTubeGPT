{
 "cells": [
  {
   "cell_type": "code",
   "execution_count": 3,
   "metadata": {},
   "outputs": [
    {
     "name": "stdout",
     "output_type": "stream",
     "text": [
      "Downloading: Boomer Advice\n",
      "MoviePy - Writing audio in audio.wav████████████| 100.0%\n"
     ]
    },
    {
     "name": "stderr",
     "output_type": "stream",
     "text": [
      "                                                                      \r"
     ]
    },
    {
     "name": "stdout",
     "output_type": "stream",
     "text": [
      "MoviePy - Done.\n",
      " An article published on October 29th, 2019 was titled, OK Boomer Marks the End of Friendly Generational Relations. According to the article, OK Boomer has become Generation Z's endlessly repeated retort to the problem of older people who just don't get it. A rallying cry for millions of fed up kids. Generation Z is currently the youngest recorded generation, those born between 1996 and 2012. Generation Y, also known as the Millennials, are those born between 1980 and 1996. Generation X are those born between 1964 and 1980, and in front of these three generations are the Baby Boomers, those born between 1946 and 1964. While Generation X and Y are firmly in their early to middle adulthood, the Boomers are old, the Zoomers are young, and they do not get along, apparently. To the question of why, the New York Times interviewed an 18 year old college student who sells OK Boomer merchandise, and she acknowledged that while older generations have always looked down on younger kids, or talked about things back in their day, she and other teens believe older people are actively hurting young people. That's perhaps what distinguishes this from any other generational conflict. Because different generations have always bucked heads, the Baby Boomers themselves waged figurative war on the generation before them, the Traditionalists, or the Silent Generation, or the Greatest Generation, when they were young and part of the counterculture. Well now they're getting it right back from Generation Z, and the reason why is because Generation Z is going to be the first generation to have a lower quality of life than the generation before them. For that, the Zoomers blame the Boomers. As happens anytime a younger generation crosses an older generation, it's a matter of time before both sides are playing defense. We might not be able to resolve this conflict, but maybe we can understand why young people are saying OK Boomer, when Baby Boomers give them advice. Some of the worst examples of Boomer advice include pursuing a random career for the heck of it, not being critical of one's parents, filling out paper applications even at hospitals and major tech companies, having children with or without enough money, assuming that it's easy to get a job, assuming that it's easy to buy a house, and there is a pattern here. A lot of this unappreciated advice relates to the economy, the job market, and the cost of living. Now we need some historical context, because we would all agree that the circumstances in the 2000 teens are different than they were half a century ago. Juvenile, as it may seem, we could make this case merely using memes, that college tuition could be paid for with a part time job, a full time job with a high school education could pay for a comfortable life, housing cost a lot less, the need to borrow was much lower and the average citizen didn't have nearly as much debt back when Baby Boomers were young. They, like anyone else, base their advice on their own personal experience, their own life lessons. None of that is a problem. The problem arises when a now elderly Baby Boomer advises a young person without knowing or considering what has changed. For example, if a Boomer is unaware that paper job applications are not provided or accepted anymore and that the only way to apply for a job today is to do so online, then this would not seem like bad advice. So the catch with a lot of Boomer advice is that much of it used to be good advice, but when the cost of education, housing and retirement go up and when employment, wages and benefits go down, that same advice is rendered bad advice, simply because of how things have changed. Anybody who hasn't gone to college, applied for a job or bought a house in decades is not aware of all these changes. There's nothing necessarily wrong with that. The problem isn't that a lot of Baby Boomers don't know what it's like to be young now. The problem, and it kinda sounds funny to say it, is when they don't know THAT they don't know. And this is something that every elderly generation has to reckon with. It's no different than an old man advising a young man to learn how to drive six white horses in an era when railroads were expanding. Everyone has to keep this in mind. Even Generation Z, as they themselves will someday become the older generation, they will have to consider the possibility that they are now not as familiar with the world as they used to be. They'll get theirs. They'll get theirs. It's not even a question, they'll get theirs. It's gonna happen to our generation when we're their age. I'm sure I did it when I was younger. They're gonna look at us like, okay, Jinzi, that's, I'm, I'm gonna wait for the day. I'm gonna mark this date, give it to my kids, and let me know what this is gonna mean. Hopefully the memes are still around by then. Have you ever been given lousy advice from a Baby Boomer? Just the same, have you ever been given terrific advice from a Boomer? And if you yourself are a Boomer, what is your opinion of OK Boomer? Make all of your thoughts known in the comments down below. And thanks for watching this video today.\n"
     ]
    }
   ],
   "source": [
    "import moviepy.editor as mp\n",
    "from pytubefix import YouTube\n",
    "from pytubefix.cli import on_progress\n",
    "import whisper\n",
    "\n",
    "def download_video(url):\n",
    "    yt = YouTube(url, on_progress_callback=on_progress)\n",
    "    print(f\"Downloading: {yt.title}\")\n",
    "    \n",
    "    ys = yt.streams.get_highest_resolution()\n",
    "    ys.download(filename='video.mp4')\n",
    "\n",
    "def extract_audio():\n",
    "    video = mp.VideoFileClip(\"video.mp4\")\n",
    "    audio = video.audio\n",
    "    audio.write_audiofile(\"audio.wav\")\n",
    "\n",
    "def transcribe_audio():\n",
    "    model = whisper.load_model(\"small.en\")\n",
    "    result = model.transcribe(\"audio.wav\")\n",
    "    print(result['text'])\n",
    "\n",
    "video_url = \"https://www.youtube.com/watch?v=-TTP4LIHk7w\"\n",
    "\n",
    "download_video(video_url)\n",
    "\n",
    "extract_audio()\n",
    "\n",
    "transcribe_audio()\n"
   ]
  },
  {
   "cell_type": "code",
   "execution_count": null,
   "metadata": {},
   "outputs": [],
   "source": []
  }
 ],
 "metadata": {
  "kernelspec": {
   "display_name": "Python 3",
   "language": "python",
   "name": "python3"
  },
  "language_info": {
   "codemirror_mode": {
    "name": "ipython",
    "version": 3
   },
   "file_extension": ".py",
   "mimetype": "text/x-python",
   "name": "python",
   "nbconvert_exporter": "python",
   "pygments_lexer": "ipython3",
   "version": "3.11.6"
  }
 },
 "nbformat": 4,
 "nbformat_minor": 2
}

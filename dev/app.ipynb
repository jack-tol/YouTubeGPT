{
 "cells": [
  {
   "cell_type": "code",
   "execution_count": 5,
   "metadata": {},
   "outputs": [
    {
     "name": "stdout",
     "output_type": "stream",
     "text": [
      "Video Analysis Result:\n",
      "The video begins with a warning message cautioning viewers about potentially disturbing content. This message is followed by footage of a severe road accident involving multiple vehicles, including a truck and a car, on a mountainous road. The hazardous conditions, characterized by heavy rain and fog, have significantly limited visibility and contributed to the accident. The vehicles involved have sustained considerable damage. Emergency services are seen arriving at the scene, attempting to manage the situation and provide assistance to the injured. A news report overlay confirms that the accident resulted in several fatalities and numerous injuries, emphasizing the poor road conditions due to the weather. The video continues to show the aftermath, with emergency responders working to clear the scene. The video concludes with a final warning message, reminding viewers of the graphic nature of the content they have just witnessed.\n"
     ]
    }
   ],
   "source": [
    "# Import necessary libraries\n",
    "from twelvelabs import TwelveLabs\n",
    "from twelvelabs.models.task import Task\n",
    "import time\n",
    "import requests\n",
    "import json\n",
    "\n",
    "# Define your API key and initialize the SDK\n",
    "api_key = \"tlk_0SAJ5BF3G8RGXR2N1P6GZ3XPVHS2\"\n",
    "client = TwelveLabs(api_key=api_key)\n",
    "\n",
    "# Set your index ID\n",
    "index_id = \"66b188fd2ef98f0d16b78fff\"\n",
    "\n",
    "# Base URL for the TwelveLabs API\n",
    "BASE_URL = \"https://api.twelvelabs.io/v1.2\"\n",
    "\n",
    "# Function to check if a video exists in the index\n",
    "def check_video_exists(video_id):\n",
    "    url = f\"{BASE_URL}/indexes/{index_id}/videos/{video_id}\"\n",
    "    headers = {\n",
    "        \"accept\": \"application/json\",\n",
    "        \"Content-Type\": \"application/json\",\n",
    "        \"x-api-key\": api_key\n",
    "    }\n",
    "    response = requests.get(url, headers=headers)\n",
    "    return response.status_code == 200\n",
    "\n",
    "# Function to upload video if it does not exist\n",
    "def upload_video(video_path):\n",
    "    task = client.task.create(\n",
    "        index_id=index_id,\n",
    "        file=video_path\n",
    "    )\n",
    "    task.wait_for_done(sleep_interval=5, callback=lambda t: print(f\"  Status={t.status}\"))\n",
    "    if task.status != \"ready\":\n",
    "        raise RuntimeError(f\"Indexing failed with status {task.status}\")\n",
    "    print(f\"The unique identifier of your video is {task.video_id}.\")\n",
    "    return task.video_id\n",
    "\n",
    "# Function to summarize the video and print the result\n",
    "def summarize_video(video_id):\n",
    "    data = {\n",
    "        \"video_id\": video_id,\n",
    "        \"type\": \"summary\",\n",
    "        \"prompt\": \"what is shown in the beginning of the video\"\n",
    "    }\n",
    "    response = requests.post(f\"{BASE_URL}/summarize\", json=data, headers={\"x-api-key\": api_key})\n",
    "    response_data = response.json()\n",
    "    print(\"Video Analysis Result:\")\n",
    "    print(response_data['summary'])\n",
    "\n",
    "# Main workflow\n",
    "video_id = \"66b1917dfe45e78ff2976b22\"  # This should be retrieved or known beforehand\n",
    "if not check_video_exists(video_id):\n",
    "    video_path = \"test.mp4\"\n",
    "    video_id = upload_video(video_path)\n",
    "\n",
    "summarize_video(video_id)\n"
   ]
  },
  {
   "cell_type": "code",
   "execution_count": null,
   "metadata": {},
   "outputs": [],
   "source": []
  }
 ],
 "metadata": {
  "kernelspec": {
   "display_name": "Python 3",
   "language": "python",
   "name": "python3"
  },
  "language_info": {
   "codemirror_mode": {
    "name": "ipython",
    "version": 3
   },
   "file_extension": ".py",
   "mimetype": "text/x-python",
   "name": "python",
   "nbconvert_exporter": "python",
   "pygments_lexer": "ipython3",
   "version": "3.11.6"
  }
 },
 "nbformat": 4,
 "nbformat_minor": 2
}
